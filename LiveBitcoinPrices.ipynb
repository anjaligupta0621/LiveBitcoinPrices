{
 "cells": [
  {
   "cell_type": "code",
   "execution_count": 5,
   "metadata": {},
   "outputs": [],
   "source": [
    "import requests\n",
    "import time"
   ]
  },
  {
   "cell_type": "code",
   "execution_count": 6,
   "metadata": {},
   "outputs": [
    {
     "data": {
      "text/plain": [
       "<Response [200]>"
      ]
     },
     "execution_count": 6,
     "metadata": {},
     "output_type": "execute_result"
    }
   ],
   "source": [
    "requests.get('https://blockchain.info/ticker')"
   ]
  },
  {
   "cell_type": "code",
   "execution_count": null,
   "metadata": {},
   "outputs": [
    {
     "name": "stdout",
     "output_type": "stream",
     "text": [
      "The current rate of bitcoin in USD is $11413.79\n",
      "The current rate of bitcoin in USD is $11413.79\n",
      "The current rate of bitcoin in USD is $11413.79\n",
      "The current rate of bitcoin in USD is $11413.79\n",
      "The current rate of bitcoin in USD is $11413.79\n",
      "The current rate of bitcoin in USD is $11422.99\n",
      "The current rate of bitcoin in USD is $11422.99\n",
      "The current rate of bitcoin in USD is $11422.13\n",
      "The current rate of bitcoin in USD is $11422.99\n",
      "The current rate of bitcoin in USD is $11422.99\n",
      "The current rate of bitcoin in USD is $11422.99\n",
      "The current rate of bitcoin in USD is $11422.13\n",
      "The current rate of bitcoin in USD is $11422.13\n",
      "The current rate of bitcoin in USD is $11422.13\n",
      "The current rate of bitcoin in USD is $11422.99\n",
      "The current rate of bitcoin in USD is $11424.54\n",
      "The current rate of bitcoin in USD is $11424.54\n",
      "The current rate of bitcoin in USD is $11424.54\n",
      "The current rate of bitcoin in USD is $11424.54\n",
      "The current rate of bitcoin in USD is $11423.77\n",
      "The current rate of bitcoin in USD is $11424.54\n",
      "The current rate of bitcoin in USD is $11423.77\n",
      "The current rate of bitcoin in USD is $11424.54\n",
      "The current rate of bitcoin in USD is $11424.54\n",
      "The current rate of bitcoin in USD is $11423.77\n",
      "The current rate of bitcoin in USD is $11423.77\n"
     ]
    }
   ],
   "source": [
    "while True:\n",
    "    response = requests.get('https://blockchain.info/ticker')\n",
    "    data = response.json()\n",
    "    print (\"The current rate of bitcoin in USD is {}{}\".format(data['USD']['symbol'],data['USD']['15m']))\n",
    "    time.sleep(5)"
   ]
  },
  {
   "cell_type": "code",
   "execution_count": 7,
   "metadata": {},
   "outputs": [
    {
     "name": "stdout",
     "output_type": "stream",
     "text": [
      "25, Aug 2020 21:26:43\n"
     ]
    }
   ],
   "source": [
    "import datetime\n",
    "print (datetime.datetime.now().strftime('%d, %b %Y %H:%M:%S'))"
   ]
  },
  {
   "cell_type": "code",
   "execution_count": null,
   "metadata": {},
   "outputs": [],
   "source": []
  },
  {
   "cell_type": "code",
   "execution_count": null,
   "metadata": {},
   "outputs": [],
   "source": []
  }
 ],
 "metadata": {
  "kernelspec": {
   "display_name": "Python 3",
   "language": "python",
   "name": "python3"
  },
  "language_info": {
   "codemirror_mode": {
    "name": "ipython",
    "version": 3
   },
   "file_extension": ".py",
   "mimetype": "text/x-python",
   "name": "python",
   "nbconvert_exporter": "python",
   "pygments_lexer": "ipython3",
   "version": "3.7.3"
  }
 },
 "nbformat": 4,
 "nbformat_minor": 2
}
